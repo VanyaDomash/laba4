{
 "cells": [
  {
   "cell_type": "markdown",
   "id": "70649106-a811-430f-a988-6fde7584c399",
   "metadata": {},
   "source": [
    "# Лабораторная работа 4 \n",
    "\n",
    "# Правильный многоугольник Рело.\n",
    " # Векторизация вычислений в `numpy`\n",
    "\n",
    " Компьютерная математика II, ММФ, БГУ\n",
    " Домаш Иван"
   ]
  },
  {
   "cell_type": "markdown",
   "id": "fe267a2b-78d7-4a35-b372-0677c2a7fbcb",
   "metadata": {},
   "source": [
    "# Задание 4.1. Построение треугольника Рело\n",
    "# Выполнение задания 4.1\n"
   ]
  },
  {
   "cell_type": "code",
   "execution_count": null,
   "id": "700477d2-ff09-48a9-83dc-751f8afb84f1",
   "metadata": {},
   "outputs": [
    {
     "ename": "",
     "evalue": "",
     "output_type": "error",
     "traceback": [
      "\u001b[1;31mДля выполнения ячеек с \"Python 3.11.9\" требуется пакет ipykernel.\n",
      "\u001b[1;31m<a href='command:jupyter.createPythonEnvAndSelectController'>Создать среду Python</a> с необходимыми пакетами."
     ]
    }
   ],
   "source": [
    "%pip install numpy\n",
    "\n",
    "import numpy as np "
   ]
  },
  {
   "cell_type": "code",
   "execution_count": null,
   "id": "7a787dfa-8d6e-4eff-a337-151d0302d4a5",
   "metadata": {},
   "outputs": [],
   "source": [
    "%pip install --user matplotlib\n",
    "import matplotlib.pyplot as plt\n"
   ]
  },
  {
   "cell_type": "code",
   "execution_count": null,
   "id": "eca38619-c687-43a4-adb6-35523ebe53ad",
   "metadata": {},
   "outputs": [],
   "source": [
    "n = 3 # количество вершин треугольника Рело\n",
    "center = np.array([0,0]) # координаты центра треугольника Рело\n",
    "r = 10. # ширина треугольника Рело\n",
    "N = 100 # количество точек для описания одной стороны треугольника Рело\n"
   ]
  },
  {
   "cell_type": "markdown",
   "id": "9e92a113-9d71-424d-a348-e1c6d92c2897",
   "metadata": {},
   "source": [
    "# Этап 1. Вычисление координат вершин правильного треугольника\n",
    "\n"
   ]
  },
  {
   "cell_type": "code",
   "execution_count": null,
   "id": "70190ee2-46c0-4b6e-bd52-9a6c8dd8facc",
   "metadata": {},
   "outputs": [],
   "source": [
    "l = r # !!! равенство справедливо только для треугольника Рело\n"
   ]
  },
  {
   "cell_type": "code",
   "execution_count": null,
   "id": "6ed8a84f-d1a4-444f-865f-4303531a2eba",
   "metadata": {},
   "outputs": [],
   "source": [
    "R = l/(2*np.sin(np.pi/n))"
   ]
  },
  {
   "cell_type": "code",
   "execution_count": null,
   "id": "82a91c1c-56ce-4544-bf71-0614b8decc46",
   "metadata": {},
   "outputs": [],
   "source": [
    "t = np.arange(0,2*np.pi,2*np.pi/n)\n",
    "vertices = center + R*np.transpose([np.cos(t), np.sin(t)])\n",
    "vertices"
   ]
  },
  {
   "cell_type": "code",
   "execution_count": null,
   "id": "3d681480-e83b-4893-9196-31847d53bb75",
   "metadata": {},
   "outputs": [],
   "source": [
    "vertices[0,0], vertices[0,:], vertices[:,1]"
   ]
  },
  {
   "cell_type": "code",
   "execution_count": null,
   "id": "5b49a8b3-e1f4-4584-8561-c4af800ef8df",
   "metadata": {},
   "outputs": [],
   "source": [
    "plt.plot(vertices[:,0],vertices[:,1],'r.',markersize=20)\n",
    "plt.axis('equal');"
   ]
  },
  {
   "cell_type": "markdown",
   "id": "a12d7261-5621-4590-a05b-9c8d324b30db",
   "metadata": {},
   "source": [
    "# Этап 2. Представление одной стороны треугольника Рело\n"
   ]
  },
  {
   "cell_type": "code",
   "execution_count": null,
   "id": "9d40fe34-4c8c-48c8-b677-64d026cca759",
   "metadata": {},
   "outputs": [],
   "source": [
    "alpha = 2*np.pi/n\n",
    "beta = alpha/2"
   ]
  },
  {
   "cell_type": "code",
   "execution_count": null,
   "id": "109464b9-7eea-4586-bb7d-6786c2e7f86c",
   "metadata": {},
   "outputs": [],
   "source": [
    "angle = np.linspace(-beta/2, beta/2, N)\n"
   ]
  },
  {
   "cell_type": "code",
   "execution_count": null,
   "id": "49562661-be4e-49c3-958f-3bf4206712a0",
   "metadata": {},
   "outputs": [],
   "source": [
    "side0 = vertices[0] + r*np.transpose([np.cos(angle + np.pi),\n",
    " np.sin(angle + np.pi)])\n"
   ]
  },
  {
   "cell_type": "code",
   "execution_count": null,
   "id": "73c7cb31-31bc-42ed-9b18-613701fc35db",
   "metadata": {},
   "outputs": [],
   "source": [
    "plt.plot(vertices[:,0],vertices[:,1],'r.',markersize=20)\n",
    "plt.plot(side0[:,0],side0[:,1],'b-',markersize=20)\n",
    "plt.axis('equal');\n"
   ]
  },
  {
   "cell_type": "code",
   "execution_count": null,
   "id": "05f32938-559d-4a60-ab08-937338b0ed00",
   "metadata": {},
   "outputs": [],
   "source": [
    "side1 = vertices[1] + r*np.transpose([np.cos(angle + np.pi + alpha),\n",
    " np.sin(angle + np.pi + alpha)])\n"
   ]
  },
  {
   "cell_type": "code",
   "execution_count": null,
   "id": "246a6d89-2735-495f-a7df-acd715f2f831",
   "metadata": {},
   "outputs": [],
   "source": [
    "plt.plot(vertices[:,0],vertices[:,1],'r.',markersize=20)\n",
    "plt.plot(side0[:,0],side0[:,1],'b-',markersize=20)\n",
    "plt.plot(side1[:,0],side1[:,1],'g-',markersize=20)\n",
    "plt.axis('equal');\n"
   ]
  },
  {
   "cell_type": "markdown",
   "id": "67b304c5-9d8a-4c58-ae0e-35ca98c4edbd",
   "metadata": {},
   "source": [
    "# Этап 3. Моделирование границы треугольника Рело"
   ]
  },
  {
   "cell_type": "code",
   "execution_count": null,
   "id": "a547306c-b2bc-471e-8e21-c7d9fb005f9e",
   "metadata": {},
   "outputs": [],
   "source": [
    "list_sides = [vertices[i] +\n",
    " r*np.transpose([np.cos(angle + np.pi + i*alpha),\n",
    " np.sin(angle + np.pi + i*alpha)])\n",
    " for i in range(n)]\n"
   ]
  },
  {
   "cell_type": "code",
   "execution_count": null,
   "id": "7bf4347d-e9d2-4e6c-84cb-da12aac17767",
   "metadata": {},
   "outputs": [],
   "source": [
    "sides = np.concatenate(list_sides)\n"
   ]
  },
  {
   "cell_type": "code",
   "execution_count": null,
   "id": "a7d0de2d-4a6d-4792-9b57-a9b4228e0412",
   "metadata": {},
   "outputs": [],
   "source": [
    "plt.plot(vertices[:,0],vertices[:,1],'r.',markersize=20)\n",
    "plt.plot(sides[:,0],sides[:,1],'b-',markersize=20)\n",
    "plt.axis('equal');\n"
   ]
  },
  {
   "cell_type": "markdown",
   "id": "31441caf-0a4f-4338-bfe0-d46c5c4d3e61",
   "metadata": {},
   "source": [
    "# Задание 4.2. Построение правильного многоугольника Рело\n"
   ]
  },
  {
   "cell_type": "code",
   "execution_count": null,
   "id": "cbdbb864-0d4b-4d80-a535-a02b3445ec23",
   "metadata": {},
   "outputs": [],
   "source": [
    "\n",
    "\n",
    "# Задаём исходные параметры:\n",
    "n = 5  # количество вершин (нечетное число больше 2)\n",
    "center = np.array([0, 0])\n",
    "r = 30.0      # ширина многоугольника Рело (радиус используемых кругов)\n",
    "N = 100       # число точек для описания одной дуговой части\n",
    "\n",
    "\n",
    "l = 2 * r * np.sin(np.pi / (2 * n))\n",
    "R = l / (2 * np.sin(np.pi / n))\n",
    "\n",
    "angles = np.arange(0, 2 * np.pi, 2 * np.pi / n)\n",
    "vertices = center + R * np.column_stack((np.cos(angles), np.sin(angles)))\n",
    "\n",
    "plt.figure(figsize=(6,6))\n",
    "plt.plot(vertices[:, 0], vertices[:, 1], 'ro', markersize=8, label='Вершины')\n",
    "plt.axis('equal')\n",
    "plt.title(\"n=5\")\n",
    "plt.legend()\n",
    "plt.show()\n"
   ]
  },
  {
   "cell_type": "code",
   "execution_count": null,
   "id": "112da45e-172f-41af-a861-fe5eabd61422",
   "metadata": {},
   "outputs": [],
   "source": [
    "alpha = 2 * np.pi / n  \n",
    "beta = alpha / 2        \n",
    "\n",
    "arc_angles = np.linspace(-beta/2, beta/2, N)\n",
    "side0 = vertices[0] + r * np.column_stack((\n",
    "    np.cos(arc_angles + np.pi),\n",
    "    np.sin(arc_angles + np.pi)\n",
    "))\n",
    "\n",
    "\n",
    "sides_list = [\n",
    "    vertices[i] + r * np.column_stack((\n",
    "        np.cos(arc_angles + np.pi + i * alpha),\n",
    "        np.sin(arc_angles + np.pi + i * alpha)\n",
    "    ))\n",
    "    for i in range(n)\n",
    "]\n",
    "\n",
    "sides = np.concatenate(sides_list, axis=0)\n",
    "\n",
    "plt.figure(figsize=(6,6))\n",
    "plt.plot(sides[:, 0], sides[:, 1], 'b-', lw=2, label='Граница многоугольника Рело')\n",
    "plt.plot(vertices[:, 0], vertices[:, 1], 'ro', markersize=8, label='Вершины')\n",
    "plt.axis('equal')\n",
    "plt.title(\" n = 5\")\n",
    "plt.legend()\n",
    "plt.show()"
   ]
  },
  {
   "cell_type": "markdown",
   "id": "e92e5539-5478-49b7-944d-6f447a64e450",
   "metadata": {},
   "source": [
    "## Вывод зависимоти $$ l = 2r \\sin\\left(\\frac{\\pi}{2n}\\right) $$\n",
    "Чтобы вывести нужную зависимость, рассмотрим одну вершину базового многоугольника – обозначим её как точку \n",
    "𝐴\n",
    ". На ней строится круг с центром \n",
    "𝐴\n",
    " и радиусом \n",
    "𝑟\n",
    ". Пусть дуга этого круга, которая входит в состав границы Рело-фигуры, имеет конечные точки (то есть точки касания с дугами из соседних кругов). Из симметрии (так как базисный многоугольник правильный) можно рассматривать медиану, проведённую из \n",
    "𝐴\n",
    " к середине одного из таких отрезков (хорды).\n",
    "\n",
    "Обозначим:\n",
    "\n",
    "𝑀\n",
    " — середину хорды, принадлежащей кругу с центром \n",
    "𝐴\n",
    ".\n",
    "\n",
    "Пусть \n",
    "𝑙\n",
    " — полная длина хорды (то есть сторона базового многоугольника, которая получается в результате объединения дугов).\n",
    "\n",
    "Из геометрии известно, что если опустить из центра круга (в нашем случае из \n",
    "𝐴\n",
    ") перпендикуляр к хорде, он делит хорду пополам. То есть длина половины хорды равна \n",
    "𝑙\n",
    "2\n",
    ".\n",
    "\n",
    "Теперь рассмотрим получившийся прямоугольный треугольник \n",
    "△\n",
    "𝐴\n",
    "𝑀\n",
    "𝑋\n",
    " (где \n",
    "𝑋\n",
    " — конечная точка на хорде). В нём:\n",
    "\n",
    "Гипотенуза равна \n",
    "𝑟\n",
    " (так как \n",
    "𝑀\n",
    " лежит на окружности с центром \n",
    "𝐴\n",
    ").\n",
    "\n",
    "Один из углов при вершине \n",
    "𝐴\n",
    " определяется симметрией правильного \n",
    "𝑛\n",
    "-угольника. \n",
    "\n"
   ]
  },
  {
   "cell_type": "markdown",
   "id": "248ff03a-d1f5-4125-bc22-076a506c7b3a",
   "metadata": {},
   "source": [
    "В правильном \n",
    "𝑛\n",
    "-угольнике угол между двумя соседними сторонами равен"
   ]
  },
  {
   "cell_type": "markdown",
   "id": "d744dc61-0752-4ca5-9e2e-55ddc548f587",
   "metadata": {},
   "source": [
    "$$ 2\\pi/n $$ "
   ]
  },
  {
   "cell_type": "markdown",
   "id": "7710388f-863a-48b6-a432-03bd84344416",
   "metadata": {},
   "source": [
    "При симметричном построении дуговой части (которая строится вокруг вершины \n",
    "𝐴\n",
    ") естественно рассматривать половину этого угла – то есть угол между медианой \n",
    "𝐴\n",
    "𝑀\n",
    " (которая, по симметрии, направлена точно посередине между сторонами) и одной из сторон – равен"
   ]
  },
  {
   "cell_type": "markdown",
   "id": "38d8f5d1-360d-41c4-a2d4-6b5e18f4dbe0",
   "metadata": {},
   "source": [
    "$$\n",
    "\\frac{1}{2} \\cdot \\frac{2\\pi}{n} = \\frac{\\pi}{n}\n",
    "$$\n"
   ]
  },
  {
   "cell_type": "markdown",
   "id": "b2ec950d-e787-4373-ad8a-810cba21e690",
   "metadata": {},
   "source": [
    "Этот угол говорит нам, что если мы посмотрим на треугольник 𝐴\n",
    "𝑀\n",
    "𝑋\n",
    " (где \n",
    "𝑀\n",
    " — основание перпендикуляра, \n",
    "𝑋\n",
    " — одна из точек на хорде), то угол между радиусом \n",
    "𝑟\n",
    " (то есть линией \n",
    "𝐴\n",
    "𝑋\n",
    ") и медианой \n",
    "𝐴\n",
    "𝑀\n",
    " равен"
   ]
  },
  {
   "cell_type": "markdown",
   "id": "111fdf3b-4673-4e45-acef-0e90c22d3609",
   "metadata": {},
   "source": [
    "$$ \\frac{\\pi}{n} $$"
   ]
  },
  {
   "cell_type": "markdown",
   "id": "ea3130b1-4059-4ab7-b247-293a67493469",
   "metadata": {},
   "source": [
    "В получившемся прямоугольном треугольнике:\n",
    "Гипотенуза \n",
    "𝐴\n",
    "𝑋\n",
    " равна \n",
    "𝑟\n",
    ". \n",
    "Катет, прилежащий к углу $$ \\frac{\\pi}{n} $$\n",
    " (то есть сторона \n",
    "𝐴\n",
    "𝑀\n",
    ") равен"
   ]
  },
  {
   "cell_type": "markdown",
   "id": "74c1b8a5-458b-4e2d-b33e-2d016f7c73df",
   "metadata": {},
   "source": [
    "$$ r \\cos\\left(\\frac{\\pi}{n}\\right) $$"
   ]
  },
  {
   "cell_type": "markdown",
   "id": "9036f2f8-94b2-45f5-b667-350c42a65ad3",
   "metadata": {},
   "source": [
    "Но поскольку \n",
    "𝐴\n",
    "𝑀\n",
    " по построению делит хорду пополам, именно \n",
    "𝐴\n",
    "𝑀\n",
    " равна половине длины стороны \n",
    "𝑙\n",
    ":"
   ]
  },
  {
   "cell_type": "markdown",
   "id": "5dc1d953-c815-4c26-9576-0d41f6ab3174",
   "metadata": {},
   "source": [
    "$$ \\frac{l}{2} = r \\cos\\left(\\frac{\\pi}{n}\\right) $$"
   ]
  },
  {
   "cell_type": "markdown",
   "id": "49711f76-cb46-49e8-848c-f039b7b4f4a1",
   "metadata": {},
   "source": [
    "Отсюда, умножая на 2: "
   ]
  },
  {
   "cell_type": "markdown",
   "id": "41f57332-bc09-4497-901f-1ffa09eecc29",
   "metadata": {},
   "source": [
    "$$ l = 2r \\cos\\left(\\frac{\\pi}{n}\\right) $$ или же $$ l = 2r \\sin\\left(\\frac{\\pi}{2n}\\right) $$"
   ]
  },
  {
   "cell_type": "markdown",
   "id": "a36a50eb-4dfd-4903-836c-47aa605c6116",
   "metadata": {},
   "source": [
    "# Задание 4.3. Результирующая пользовательская функция\n"
   ]
  },
  {
   "cell_type": "code",
   "execution_count": null,
   "id": "139835e2-17a6-4c9b-8d70-8776ca60de96",
   "metadata": {},
   "outputs": [],
   "source": [
    "import numpy as np\n",
    "import matplotlib.pyplot as plt\n",
    "\n",
    "def regular_polygon_Relo(n: int = 3, center: np.ndarray = np.array([0, 0]), r: float = 1, N: int = 100) -> np.ndarray:\n",
    "    # Приведение центра к массиву типа float\n",
    "    if center is None:\n",
    "        center = np.array([0.0, 0.0])\n",
    "    else:\n",
    "        center = np.array(center, dtype=float)\n",
    "\n",
    "    assert isinstance(n, int) and n > 2 and (n % 2 == 1), \"сделайте n нечётным целым числом больше 2\"\n",
    "    assert center.shape == (2,), \"центр должен быть в виде массива (x, y)\"\n",
    "    assert isinstance(r, (int, float)) and r > 0, \"r должно быть положительным\"\n",
    "    assert isinstance(N, int) and N > 0, \"кол - во сторон\"\n",
    "\n",
    "    l: float = 2 * r * np.sin(np.pi / (2 * n))\n",
    "    R: float = l / (2 * np.sin(np.pi / n))\n",
    "    angles: np.ndarray = np.arange(0, 2 * np.pi, 2 * np.pi / n)\n",
    "    vertices: np.ndarray = center + R * np.column_stack((np.cos(angles), np.sin(angles)))\n",
    "\n",
    "    alpha: float = 2 * np.pi / n\n",
    "    beta: float = alpha / 2\n",
    "    arc_angles: np.ndarray = np.linspace(-beta / 2, beta / 2, N)\n",
    "\n",
    "    sides_list = [\n",
    "        vertices[i] + r * np.column_stack((\n",
    "            np.cos(arc_angles + np.pi + i * alpha),\n",
    "            np.sin(arc_angles + np.pi + i * alpha)\n",
    "        ))\n",
    "        for i in range(n)\n",
    "    ]\n",
    "    sides: np.ndarray = np.concatenate(sides_list, axis=0)\n",
    "\n",
    "    return sides\n",
    "\n",
    "polygon = regular_polygon_Relo(7, np.array([0, 0]), 10, 100)\n",
    "\n",
    "plt.figure(figsize=(6, 6))\n",
    "plt.plot(polygon[:, 0], polygon[:, 1], 'b-', lw=2)\n",
    "plt.axis('equal')\n",
    "plt.title(\"n = 5\")\n",
    "plt.legend()\n",
    "plt.show()\n",
    "\n",
    "\n",
    "    \n",
    "\n",
    "    \n"
   ]
  },
  {
   "cell_type": "code",
   "execution_count": null,
   "id": "0c70a06c-678e-473a-839f-2cc11051a124",
   "metadata": {},
   "outputs": [],
   "source": [
    "\n",
    "\n",
    "test_cases = [\n",
    "    \n",
    "    {\"n\": 2, \"center\": np.array([2, 2]), \"r\": 4, \"N\": 70},\n",
    "   \n",
    "    {\"n\": 11, \"center\": np.array([5, 5]), \"r\": 5.5, \"N\": 100},\n",
    "    \n",
    "]\n",
    "\n",
    "plt.figure(figsize=(8, 8))\n",
    "colors = ['r', 'g', 'b', 'm', 'c']\n",
    "\n",
    "for i, case in enumerate(test_cases):\n",
    "    try:\n",
    "        points = regular_polygon_Relo(**case) if isinstance(case, dict) else regular_polygon_Relo(*case)\n",
    "        plt.plot(points[:, 0], points[:, 1], color=colors[i % len(colors)], label=f\"Test {i+1}\")\n",
    "    except AssertionError as e:\n",
    "        print(f\"Ошибка в тесте {i+1}: {e}\")\n",
    "\n",
    "plt.axis(\"equal\")\n",
    "plt.legend()\n",
    "plt.title(\"Тест\")\n",
    "plt.grid()\n",
    "plt.show()"
   ]
  },
  {
   "cell_type": "code",
   "execution_count": null,
   "id": "6d5084c7-6121-4533-a08f-9541e4b90c7f",
   "metadata": {},
   "outputs": [],
   "source": [
    "\n",
    "test_cases = [\n",
    "    \n",
    "    {\"n\": 5, \"center\": np.array([2, 2]), \"r\": 3, \"N\": 70},\n",
    "   \n",
    "    {\"n\": 11, \"center\": np.array([5, 5]), \"r\": -2, \"N\": 100},\n",
    "    \n",
    "]\n",
    "\n",
    "plt.figure(figsize=(8, 8))\n",
    "colors = ['r', 'g', 'b', 'm', 'c']\n",
    "\n",
    "for i, case in enumerate(test_cases):\n",
    "    try:\n",
    "        points = regular_polygon_Relo(**case) if isinstance(case, dict) else regular_polygon_Relo(*case)\n",
    "        plt.plot(points[:, 0], points[:, 1], color=colors[i % len(colors)], label=f\"Test {i+1}\")\n",
    "    except AssertionError as e:\n",
    "        print(f\"Ошибка в тесте {i+1}: {e}\")\n",
    "\n",
    "plt.axis(\"equal\")\n",
    "plt.legend()\n",
    "plt.title(\"Тест\")\n",
    "plt.grid()\n",
    "plt.show()"
   ]
  },
  {
   "cell_type": "code",
   "execution_count": null,
   "id": "f0f37df3-0d3a-4035-924d-7ee97cbbc420",
   "metadata": {},
   "outputs": [],
   "source": [
    "test_cases = [\n",
    "    {\"n\": 7, \"center\": np.array([2, 2]), \"r\": 6, \"N\": 90},\n",
    "    {\"n\": 3, \"center\": np.array([3, 2]), \"r\": 4, \"N\": 80},\n",
    "   {\"n\": 5, \"center\": np.array([2, 2]), \"r\": 7, \"N\": 70},\n",
    "    {\"n\": 11, \"center\": np.array([5, 5]), \"r\": 5.5, \"N\": 100},\n",
    "    \n",
    "]\n",
    "\n",
    "plt.figure(figsize=(8, 8))\n",
    "colors = ['r', 'g', 'b', 'm', 'c']\n",
    "\n",
    "for i, case in enumerate(test_cases):\n",
    "    try:\n",
    "        points = regular_polygon_Relo(**case) if isinstance(case, dict) else regular_polygon_Relo(*case)\n",
    "        plt.plot(points[:, 0], points[:, 1], color=colors[i % len(colors)], label=f\"Test {i+1}\")\n",
    "    except AssertionError as e:\n",
    "        print(f\"Ошибка в тесте {i+1}: {e}\")\n",
    "\n",
    "plt.axis(\"equal\")\n",
    "plt.legend()\n",
    "plt.title(\"Тест\")\n",
    "plt.grid()\n",
    "plt.show()"
   ]
  },
  {
   "cell_type": "code",
   "execution_count": null,
   "id": "3438b2ad-2ee8-46ea-a808-0e89bc6b3c44",
   "metadata": {},
   "outputs": [],
   "source": []
  }
 ],
 "metadata": {
  "kernelspec": {
   "display_name": "Python 3",
   "language": "python",
   "name": "python3"
  },
  "language_info": {
   "codemirror_mode": {
    "name": "ipython",
    "version": 3
   },
   "file_extension": ".py",
   "mimetype": "text/x-python",
   "name": "python",
   "nbconvert_exporter": "python",
   "pygments_lexer": "ipython3",
   "version": "3.11.9"
  }
 },
 "nbformat": 4,
 "nbformat_minor": 5
}
